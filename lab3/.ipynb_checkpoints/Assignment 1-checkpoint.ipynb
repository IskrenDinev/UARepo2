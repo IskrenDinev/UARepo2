{
 "cells": [
  {
   "cell_type": "markdown",
   "id": "9f69e5e4-d078-4bdb-aabe-04fc33c9fff7",
   "metadata": {},
   "source": [
    "# Lab Workbook Challenges"
   ]
  },
  {
   "cell_type": "markdown",
   "id": "3dae0880-f0ca-402c-8fb5-de91148eb4f6",
   "metadata": {},
   "source": [
    "## Lab Workbook 1"
   ]
  },
  {
   "cell_type": "markdown",
   "id": "93789a94-9b8a-40aa-a23b-acc992f5e454",
   "metadata": {},
   "source": [
    "### Challenge 1"
   ]
  },
  {
   "cell_type": "markdown",
   "id": "7eb12ade-bd28-4e0b-b609-475a541e45f1",
   "metadata": {},
   "source": [
    "Task: Create a table with required columns and rows to represent the type of roads in the UK. The table should include headers and hiperlinks."
   ]
  },
  {
   "cell_type": "code",
   "execution_count": null,
   "id": "a05e0d9f-6765-4d6f-b74c-c8a2ab38fa07",
   "metadata": {},
   "outputs": [],
   "source": []
  },
  {
   "cell_type": "markdown",
   "id": "647d7c50-80d4-4278-bea5-56bd50d66553",
   "metadata": {},
   "source": [
    "### Challenge 2"
   ]
  },
  {
   "cell_type": "markdown",
   "id": "ca8bb3b8-cb37-4b91-8eff-e37bdd09b692",
   "metadata": {},
   "source": [
    "Task: In the following cell, create the code to calculate the average of three numbers and print the result. There is no need for functions. Comment your code and the process."
   ]
  },
  {
   "cell_type": "code",
   "execution_count": null,
   "id": "e49a38cb-46e9-4b2d-aa00-8ea2e332f888",
   "metadata": {},
   "outputs": [],
   "source": [
    "#Assigning values to three numbers\n",
    "number1 = 4\n",
    "number2 = 6\n",
    "number3 = 11\n",
    "\n",
    "#Adding the values\n",
    "totalsumof3 = number1 + number2 + number3\n",
    "\n",
    "#Finding the average\n",
    "average = totalsumof3 / 3\n",
    "\n",
    "#Printing the result\n",
    "print(f\"Average: {average}\")"
   ]
  },
  {
   "cell_type": "markdown",
   "id": "e817d143-a3f7-4e82-bd4a-8bf6c82a1c36",
   "metadata": {},
   "source": [
    "### Challenge 3"
   ]
  },
  {
   "cell_type": "markdown",
   "id": "9c107b89-328a-4f4e-a12b-e0768f861384",
   "metadata": {},
   "source": [
    "Task: Write a condition to check if a number is even."
   ]
  },
  {
   "cell_type": "code",
   "execution_count": null,
   "id": "aa6bc87d-9aee-4a26-bffd-3103d5393f9a",
   "metadata": {},
   "outputs": [],
   "source": [
    "#Defining so that a number which is divisible by 2 without producing decimals comes back as true, if not it comes back as false\n",
    "def is_even(number):\n",
    "    if number % 2 == 0:\n",
    "        return True\n",
    "    else:\n",
    "        return False\n",
    "\n",
    "#Assigning a value to number\n",
    "number = 11\n",
    "\n",
    "#Creating a command to tell me if the assigned value is odd or even\n",
    "if is_even(number):\n",
    "    print(f\"{number} is even!\")\n",
    "else:\n",
    "    print(f\"{number} is odd!\")"
   ]
  },
  {
   "cell_type": "markdown",
   "id": "0fae72db-1fb3-4df1-b8af-9c2c05c38326",
   "metadata": {},
   "source": [
    "### Challenge 4"
   ]
  },
  {
   "cell_type": "markdown",
   "id": "f489a78a-a079-40fd-9128-4501d9875bda",
   "metadata": {},
   "source": [
    "Task: \n",
    "\n",
    "Write the python code to find the factorial of a number using a loop. Thefactorial of a number (integer positive) is the sum of multiplication of all the integers smaller than that positive integer. For example, factorial of 5 is:\n",
    "\n",
    "5 * 4 * 3 * 2 * 1 which equals to 120.\n",
    "\n",
    "How you can do that in a python script?, please try your best without using google."
   ]
  },
  {
   "cell_type": "code",
   "execution_count": null,
   "id": "806464ae-2970-44f3-b4d7-1cb37fa8f349",
   "metadata": {},
   "outputs": [],
   "source": [
    "#Assigning a value to num and from which number it should start for the multiplication\n",
    "num = 5\n",
    "multi_numbers = 1\n",
    "\n",
    "#Creating a loop\n",
    "for j in range(1, num + 1):\n",
    "    multi_numbers *= j\n",
    "\n",
    "#Printing the result\n",
    "print(f\"The factorial of {num} is: {multi_numbers}\")"
   ]
  },
  {
   "cell_type": "markdown",
   "id": "e061102d-4340-4d97-b7c6-b86a7806e340",
   "metadata": {},
   "source": [
    "### Challenge 5"
   ]
  },
  {
   "cell_type": "markdown",
   "id": "a35c7ae9-d0fe-47b7-bc6e-c06af8986fa6",
   "metadata": {},
   "source": [
    "Task:\n",
    "\n",
    "Help me to write the python code, I can use to provide the grades based on the marks according to the following table:\n",
    "\n",
    "Mark\tGrade\n",
    "81-100\t20\n",
    "61-80\t15\n",
    "41-60\t10\n",
    "20-40\t5\n"
   ]
  },
  {
   "cell_type": "code",
   "execution_count": null,
   "id": "52a88d54-003c-4217-9c7b-54e5b629dbfe",
   "metadata": {},
   "outputs": [],
   "source": [
    "#Assgining a value to mark\n",
    "mark = 67\n",
    "\n",
    "#Creating an if statement to print a result depending on the mark value assigned\n",
    "if mark >= 81:\n",
    "    print(f\"Congrats! You have a grade 20\")\n",
    "elif 61 <= mark < 81:\n",
    "    print(f\"Well done! You got a grade 15\")\n",
    "elif 41 <= mark < 61:\n",
    "    print(f\"Oof! You got a grade 10\")\n",
    "elif 20 <= mark < 41:\n",
    "    print(f\"UGHH! You got a grade 5\")\n",
    "else:\n",
    "    print(f\"FAIL! No grade!\")"
   ]
  },
  {
   "cell_type": "markdown",
   "id": "b03ea01b-a6ff-49ba-b3fd-ba25d9aa25dd",
   "metadata": {},
   "source": [
    "### Challenge 6"
   ]
  },
  {
   "cell_type": "markdown",
   "id": "94f53e09-4258-4170-88e3-2952d856067a",
   "metadata": {},
   "source": [
    "Task:\n",
    "\n",
    "Write and use a function to convert Fahrenheit to Celsius. Use the input parameter to let the user enter a number in Fahrenheit and then get the correspondant value in Celsius\r\n",
    "Go to https://www.w3schools.com/python/exercise.asp?filename=exercise_functions1 and complete the 6 excersices. Functions are a very important part of Python so we will use extra time to practice that."
   ]
  },
  {
   "cell_type": "code",
   "execution_count": null,
   "id": "ecb37e6c-7720-4c1f-bc59-4f00d5066044",
   "metadata": {},
   "outputs": [],
   "source": [
    "#Creating an input to ask the user to give a fah value\n",
    "fah = int(input(\"what is the temperature in Fahrenheit\"))\n",
    "\n",
    "#Calculation to convert fah and cel\n",
    "cel = (fah-32)*5/9\n",
    "\n",
    "#Printing the cel value\n",
    "print(f\"it is {cel} oC at the moment\")"
   ]
  },
  {
   "cell_type": "markdown",
   "id": "73b66062-931d-4ca0-a50b-849eae8d8716",
   "metadata": {},
   "source": [
    "### Challenge 7"
   ]
  },
  {
   "cell_type": "markdown",
   "id": "75edd944-6a61-4296-8ae6-798706f1e83c",
   "metadata": {},
   "source": [
    "Calculate the mean and standard deviation of elements in a NumPy array. The outcome should have something like print(f\"Mean: {mean_value}, Standard Deviation: {std_deviation}\")"
   ]
  },
  {
   "cell_type": "code",
   "execution_count": null,
   "id": "5aeefeae-8a04-440c-8598-c90668ffa53b",
   "metadata": {},
   "outputs": [],
   "source": [
    "#Will need numpy\n",
    "import numpy as np \n",
    "\n",
    "#Creating a array with random numbers between 0 and 10\n",
    "arr = np.random.randint(0, 10, size=(3, 3))\n",
    "print(arr)\n",
    "\n",
    "#finding the mean, standard deviation of the array\n",
    "mean_value = np.mean(arr)\n",
    "std_dev = np.std(arr)\n",
    "\n",
    "#Printing the mean and standard deviation results\n",
    "print(f\"Mean: {mean_value}, Standard Deviation: {std_dev}\")"
   ]
  },
  {
   "cell_type": "markdown",
   "id": "3f3f66f3-13c7-48bc-af13-3c544676c3d1",
   "metadata": {},
   "source": [
    "### Challenge 8"
   ]
  },
  {
   "cell_type": "markdown",
   "id": "27bf8cb7-dd88-4686-9f3d-121766275cf4",
   "metadata": {},
   "source": [
    "You have the following dataframes 'sales_data' and 'movie_ratings'\n"
   ]
  },
  {
   "cell_type": "code",
   "execution_count": null,
   "id": "fdc2983c-e31e-497d-9678-03474c097dd8",
   "metadata": {},
   "outputs": [],
   "source": [
    "import pandas as pd\n",
    "\n",
    "sales_data_dict = {\n",
    "    'Date': ['2022-01-01', '2022-01-02', '2022-01-03', '2022-01-04'],\n",
    "    'Region': ['North', 'South', 'East', 'West'],\n",
    "    'Product': ['A', 'B', 'A', 'C'],\n",
    "    'Quantity': [15, 8, 12, 10],\n",
    "    'Revenue': [1500, 1200, 1800, 900]\n",
    "}\n",
    "\n",
    "sales_data = pd.DataFrame(sales_data_dict)\n",
    "\n",
    "\n",
    "movie_ratings_dict = {\n",
    "    'Title': ['Movie1', 'Movie2', 'Movie3', 'Movie4'],\n",
    "    'Genre': ['Action', 'Drama', 'Comedy', 'Thriller'],\n",
    "    'Year': [2015, 2010, 2018, 2011],\n",
    "    'Rating': [8.5, 7.8, 9.2, 8.0]\n",
    "}\n",
    "\n",
    "movie_ratings = pd.DataFrame(movie_ratings_dict)\n",
    "\n",
    "print(sales_data)\n",
    "print(movie_ratings)\n"
   ]
  },
  {
   "cell_type": "markdown",
   "id": "50f11bea-c29d-4058-919f-a298575fcbd7",
   "metadata": {},
   "source": [
    "Display the first 5 rows of the DataFrame 'sales_data'\r\n",
    "\r\n",
    "Use loc to filter and display rows where the \"Quantity\" is greater than 10 and the \"Region\" is \"North\".\r\n",
    "\r\n",
    "Use iloc to display the values in the first row and the first three columns.\r\n",
    "\r\n",
    "Calculate the total sales for each region and display the result.\r\n",
    "\r\n",
    "Display the last 3 rows of the DataFrame 'movie_ratings'.\r\n",
    "\r\n",
    "Calculate and display the average rating for each genre."
   ]
  },
  {
   "cell_type": "code",
   "execution_count": null,
   "id": "935de998-1f85-435a-b39c-49a2c8b31906",
   "metadata": {},
   "outputs": [],
   "source": [
    "#Displaying the first 5 rows from sales_data\n",
    "print(sales_data.head(5))\n",
    "\n",
    "#Using loc to filter and display rows where quantity is greater than 10 and the region is north\n",
    "filtered_df = sales_data.loc[(sales_data['Quantity'] > 10) & (sales_data['Region'] == 'North')]\n",
    "print(filtered_df)\n",
    "\n",
    "selected = sales_data.iloc[0, :3]\n",
    "print(selected)\n",
    "\n",
    "sum = sales_data['Revenue'].sum()\n",
    "print(sum)\n",
    "\n",
    "selectedlast3 = movie_ratings.tail(3)\n",
    "print(selectedlast3)\n",
    "\n",
    "aver = movie_ratings['Rating'].mean()\n",
    "print(aver)"
   ]
  },
  {
   "cell_type": "markdown",
   "id": "ea628c39-18b5-429b-a665-e8a8bc918aed",
   "metadata": {},
   "source": [
    "### Challenge 9"
   ]
  },
  {
   "cell_type": "markdown",
   "id": "4a4d558a-3bd5-4e40-8445-be47208cc3d7",
   "metadata": {},
   "source": [
    "Recreate the explore map, but now using one of the columns to create a choropleth map Check this link to get more information https://geopandas.org/en/stable/docs/reference/api/geopandas.GeoDataFrame.explore.html\n",
    "\n",
    "Get the histogram of the raster you plot in the exercise. Here you can get an example of how to do it: https://rasterio.readthedocs.io/en/latest/topics/plotting.html"
   ]
  },
  {
   "cell_type": "code",
   "execution_count": null,
   "id": "ed7e274e-9086-4724-bbad-00e2b9208144",
   "metadata": {},
   "outputs": [],
   "source": [
    "import geopandas as gpd\n",
    "import rasterio\n",
    "from rasterio.plot import show\n",
    "\n",
    "shapefile = 'Road_Safety_Accidents.shp'\n",
    "gdf = gpd.read_file(shapefile)\n",
    "gdf.explore()"
   ]
  },
  {
   "cell_type": "code",
   "execution_count": null,
   "id": "735ef18d-e85d-4916-95ca-c2a11860c4cc",
   "metadata": {},
   "outputs": [],
   "source": [
    "#Will need to import numpy\n",
    "import numpy as np\n",
    "\n",
    "#Checking what columns there are\n",
    "print(gdf.columns)\n",
    "\n",
    "#Creating explore map of one of the columns to create a choropleth map\n",
    "gdf.explore(\"ACCIDENT_S\", cmap=\"Blues\")\n",
    "\n",
    "\n",
    "#Creating the histogram of the raster\n",
    "#Will need to import rasterio\n",
    "import rasterio\n",
    "\n",
    "#Creating a histogram for the elevation\n",
    "from matplotlib import pyplot\n",
    "from rasterio.plot import show_hist\n",
    "show_hist(\n",
    "    src, bins=50, lw=0.0, stacked=False, alpha=1,\n",
    "    histtype='stepfilled', label=\"Elevation\", title=\"Histogram\")\n"
   ]
  },
  {
   "cell_type": "markdown",
   "id": "2cb1eea2-eee1-4a76-97d6-2e18d103cb8a",
   "metadata": {},
   "source": [
    "## Lab Workbook 2"
   ]
  },
  {
   "cell_type": "markdown",
   "id": "ba84ffc5-37eb-4bc0-91a6-fff892769438",
   "metadata": {},
   "source": [
    "### Challenge 1"
   ]
  },
  {
   "cell_type": "markdown",
   "id": "6b8aedb7-c09f-453f-a534-c1ae039be0d5",
   "metadata": {},
   "source": [
    "Task:\n",
    "\n",
    "Using a Dictionary, create a dataframe (table), with at least 4 columns and more than 100 rows. How come you can create this among data from scratch without defining every single row of data?\n",
    "\n",
    "Using the appropriate method, create a new DataFrame containing only the first 30 rows and the first 3 columns of the original DataFrame. Name this new DataFrame subset_df.\n",
    "\n",
    "Using the appropriate method, filter the rows from the original dataframe where a numerical attribute(column) is greater than a particular numerical value, and find another categorical attribute that is equal to a specific string or text. Name this new DataFrame filtered_df.\n",
    "\n",
    "Check this website https://pandas.pydata.org/pandas-docs/stable/reference/api/pandas.DataFrame.mean.html and apply the methods, mean, standard deviation, group_by to run fundamental statistical analysis of your created data frame.\n",
    "\n",
    "Make sure you comment on your code and describe how you are manipulating the data."
   ]
  },
  {
   "cell_type": "code",
   "execution_count": null,
   "id": "13d7a55e-5ea2-4720-ac4c-7a224039f965",
   "metadata": {},
   "outputs": [],
   "source": [
    "#Setting the years chosen to be between 2000 and 2024\n",
    "years1 = range (2000,2024)\n",
    "\n",
    "#Repeat the year selection 5 times\n",
    "aa = np.repeat(years1, 5)\n",
    "\n",
    "#ab 120 numbers will be chosen between 0 and 1000\n",
    "ab = np.random.randint(0, 1000, 120)\n",
    "\n",
    "#ac 120 numbers will be chosen between 0 and 100\n",
    "ac = np.random.randint(0, 10, 120)\n",
    "\n",
    "#ad 120 numbers will be chosen between 0 and 3\n",
    "ad = np.random.randint(0, 3, 120)\n",
    "\n",
    "#Creating a dataframe and checking the head\n",
    "ae = pd.DataFrame({'aa':aa,'ab':ab,'ac':ac,'ad':ad})\n",
    "ae.head"
   ]
  },
  {
   "cell_type": "code",
   "execution_count": null,
   "id": "0e44db44-bcab-4d78-95f7-cba24572d747",
   "metadata": {},
   "outputs": [],
   "source": [
    "#creating a new dataframe with only the first 30 rows and first 3 columns\n",
    "subset_df = ae.iloc[:30, :3]\n",
    "subset_df.head"
   ]
  },
  {
   "cell_type": "code",
   "execution_count": null,
   "id": "932901c9-8d68-4c28-96ac-db49438a2323",
   "metadata": {},
   "outputs": [],
   "source": [
    "#Filtering the third row to check for values more than 6 and only show years equal to 2003 from the original dataframe \n",
    "filtered_df = ae[(ae.iloc[:,2] >= 6) & (ae.iloc[:, 0] == 2003)]\n",
    "filtered_df.head"
   ]
  },
  {
   "cell_type": "code",
   "execution_count": null,
   "id": "1c1862f9-1270-4683-8fa3-56ad4ab7ece8",
   "metadata": {},
   "outputs": [],
   "source": [
    "#Finding the mean, standard deviation and sum\n",
    "ae.mean()\n",
    "ae.sum()\n",
    "ae.std()"
   ]
  },
  {
   "cell_type": "code",
   "execution_count": null,
   "id": "f90a216c-96bb-4964-ab02-70e8aeb9dd79",
   "metadata": {
    "scrolled": true
   },
   "outputs": [],
   "source": [
    "#Creating a group by to group the same years in aa\n",
    "grouped_ae = ae.groupby('aa').size()\n",
    "print(grouped_ae)"
   ]
  },
  {
   "cell_type": "markdown",
   "id": "4e3e00f1-4d0e-4ee2-a3db-82392c56cbc2",
   "metadata": {},
   "source": [
    "### Challenge 2"
   ]
  },
  {
   "cell_type": "markdown",
   "id": "05e6c110-c2d1-43c9-aa18-164e1fa6e264",
   "metadata": {},
   "source": [
    "Part No 1:\n",
    "\n",
    "Using the same workflow previously described, now calculate the clustered areas for the GeoPandasDataFrame gdf_bikes_end\n",
    "Make sure you don't have any NaN in your columns, add a CRS, clean up the unnecessary attributes, calculate the cluster values, and plot a map of 4 calculated clusters for the return locations."
   ]
  },
  {
   "cell_type": "code",
   "execution_count": null,
   "id": "798a23b2-0a3f-404f-b56a-4356db8a0b6a",
   "metadata": {},
   "outputs": [],
   "source": []
  },
  {
   "cell_type": "markdown",
   "id": "1f7f39fc-238e-478c-930a-c4b68a83e51d",
   "metadata": {},
   "source": [
    "Part No 2:\n",
    "\n",
    "Using the Glasglow Open Data API ( Transit) https://developer.glasgow.gov.uk/api-details#api=traffic&operation=traffic-sensor-locations fetch all the sensor locations in the city.\n",
    "Map the sensor\n",
    "Find the WorkingZones and Calculate/Map the areas with more and fewer sensors distributed in the city.\n",
    "You will need:\n",
    "Get two separate Geopandas DataFrames, one for the traffic sensors and another one for the WorkingZones.\n",
    "Using sJoin ( Spatial Join) https://geopandas.org/en/stable/docs/reference/api/geopandas.sjoin.html calculate the overlay of sensors and polygons.\n",
    "Using group_by https://pandas.pydata.org/pandas-docs/stable/reference/api/pandas.DataFrame.groupby.html to count the number of sensors per WorkingZone\n",
    "Make sure you add the counts into the WorkingZone polygons of Glasgow so you can create a map of Zones with more and fewer traffic sensors.\n",
    "Of course, you will need extra steps where you manipulate the data and extract what you need, for instance, clipping the Working Zones only for Glasgow.\n",
    "Make sure you comment on your code and describe how you are manipulating the data."
   ]
  },
  {
   "cell_type": "code",
   "execution_count": null,
   "id": "468e67ee-4a49-4ffb-8e27-917beeea3c0f",
   "metadata": {},
   "outputs": [],
   "source": []
  }
 ],
 "metadata": {
  "kernelspec": {
   "display_name": "Python 3 (ipykernel)",
   "language": "python",
   "name": "python3"
  },
  "language_info": {
   "codemirror_mode": {
    "name": "ipython",
    "version": 3
   },
   "file_extension": ".py",
   "mimetype": "text/x-python",
   "name": "python",
   "nbconvert_exporter": "python",
   "pygments_lexer": "ipython3",
   "version": "3.10.13"
  }
 },
 "nbformat": 4,
 "nbformat_minor": 5
}
